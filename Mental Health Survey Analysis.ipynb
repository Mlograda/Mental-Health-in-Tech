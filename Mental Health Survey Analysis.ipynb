{
 "cells": [
  {
   "cell_type": "markdown",
   "id": "566d9a5d",
   "metadata": {},
   "source": [
    "# Analytic Questions"
   ]
  },
  {
   "cell_type": "markdown",
   "id": "1e3ac74a",
   "metadata": {},
   "source": [
    "* **AQ1**: Is there a significant difference between the mental health of employees across the attribute of gender? \n",
    "* **AQ2**: Is there a significant difference between the mental health of employees across the attribute of age? \n",
    "* **AQ3**: Do more supportive companies have healthier employees mentally? \n",
    "* **AQ4**: Does the attitude of individuals toward mental health influence their mental health and their seeking of treatments?\n",
    "\n"
   ]
  },
  {
   "cell_type": "markdown",
   "id": "be55b1a6",
   "metadata": {},
   "source": [
    "# Import Libraries"
   ]
  },
  {
   "cell_type": "code",
   "execution_count": 1,
   "id": "d2f49ab4",
   "metadata": {},
   "outputs": [],
   "source": [
    "import numpy as np\n",
    "import pandas as pd\n",
    "import matplotlib.pyplot as plt\n",
    "import seaborn as sns"
   ]
  },
  {
   "cell_type": "markdown",
   "id": "0341e5af",
   "metadata": {},
   "source": [
    "# Integrating the Data Sources"
   ]
  },
  {
   "cell_type": "code",
   "execution_count": 4,
   "id": "56c195d5",
   "metadata": {},
   "outputs": [],
   "source": [
    "# Integrating the 5 datasets into one dataset.\n",
    "\n",
    "# 1. understanding the common attributes between the 5 datasets\n",
    "# is there consistent wording between them\n",
    "\n",
    "# use SequenceMatcher from the difflib module to find attributes that are similar.\n",
    "df_2014 = pd.read_csv('./data/2014.csv')\n",
    "df_2016 = pd.read_csv('./data/2016.csv')\n",
    "df_2017 = pd.read_csv('./data/2017.csv')\n",
    "df_2018 = pd.read_csv('./data/2018.csv')\n",
    "df_2019 = pd.read_csv('./data/2019.csv')\n",
    "df_2020 = pd.read_csv('./data/2020.csv')\n",
    "\n"
   ]
  },
  {
   "cell_type": "code",
   "execution_count": 5,
   "id": "cee543b4",
   "metadata": {},
   "outputs": [
    {
     "data": {
      "text/plain": [
       "Index(['Timestamp', 'Age', 'Gender', 'Country',\n",
       "       'If you live in the United States, which state or territory do you live in?',\n",
       "       'Are you self-employed?',\n",
       "       'Do you have a family history of mental illness?',\n",
       "       'Have you sought treatment for a mental health condition?',\n",
       "       'If you have a mental health condition, do you feel that it interferes with your work?',\n",
       "       'How many employees does your company or organization have?',\n",
       "       'Do you work remotely (outside of an office) at least 50% of the time?',\n",
       "       'Is your employer primarily a tech company/organization?',\n",
       "       'Does your employer provide mental health benefits?',\n",
       "       'Do you know the options for mental health care your employer provides?',\n",
       "       'Has your employer ever discussed mental health as part of an employee wellness program?',\n",
       "       'Does your employer provide resources to learn more about mental health issues and how to seek help?',\n",
       "       'Is your anonymity protected if you choose to take advantage of mental health or substance abuse treatment resources?',\n",
       "       'How easy is it for you to take medical leave for a mental health condition?',\n",
       "       'Do you think that discussing a mental health issue with your employer would have negative consequences?',\n",
       "       'Do you think that discussing a physical health issue with your employer would have negative consequences?',\n",
       "       'Would you be willing to discuss a mental health issue with your coworkers?',\n",
       "       'Would you be willing to discuss a mental health issue with your direct supervisor(s)?',\n",
       "       'Would you bring up a mental health issue with a potential employer in an interview?',\n",
       "       'Would you bring up a physical health issue with a potential employer in an interview?',\n",
       "       'Do you feel that your employer takes mental health as seriously as physical health?',\n",
       "       'Have you heard of or observed negative consequences for coworkers with mental health conditions in your workplace?',\n",
       "       'Any additional notes or comments'],\n",
       "      dtype='object')"
      ]
     },
     "execution_count": 5,
     "metadata": {},
     "output_type": "execute_result"
    }
   ],
   "source": [
    "df_2014.columns"
   ]
  },
  {
   "cell_type": "code",
   "execution_count": null,
   "id": "001392be",
   "metadata": {},
   "outputs": [],
   "source": [
    "# 2. Only keep the attributes that are relvant to the Analytic questions"
   ]
  }
 ],
 "metadata": {
  "kernelspec": {
   "display_name": "Python 3 (ipykernel)",
   "language": "python",
   "name": "python3"
  },
  "language_info": {
   "codemirror_mode": {
    "name": "ipython",
    "version": 3
   },
   "file_extension": ".py",
   "mimetype": "text/x-python",
   "name": "python",
   "nbconvert_exporter": "python",
   "pygments_lexer": "ipython3",
   "version": "3.9.7"
  }
 },
 "nbformat": 4,
 "nbformat_minor": 5
}
